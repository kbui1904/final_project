{
  "cells": [
    {
      "cell_type": "markdown",
      "id": "6de10458",
      "metadata": {
        "id": "6de10458"
      },
      "source": [
        "# createDB.ipynb: \n",
        "Notebook that creates a new database ( ecsel_database.db )from the\n",
        "information given in the EXCEL files"
      ]
    },
    {
      "cell_type": "code",
      "execution_count": null,
      "id": "a3aab36c",
      "metadata": {
        "id": "a3aab36c"
      },
      "outputs": [],
      "source": [
        "import sqlite3\n",
        "import pandas as pd"
      ]
    },
    {
      "cell_type": "markdown",
      "source": [
        "FR2.1\n",
        "The system shall read the 3 previous EXCEL files and generate 3 dataframes\n",
        "corresponding to the EXCEL tables."
      ],
      "metadata": {
        "id": "dpbrP3jQmAmQ"
      },
      "id": "dpbrP3jQmAmQ"
    },
    {
      "cell_type": "code",
      "execution_count": null,
      "id": "c6d96b30",
      "metadata": {
        "id": "c6d96b30"
      },
      "outputs": [],
      "source": [
        "df_countries = pd.read_excel(r'countries.xlsx')\n",
        "df_participants = pd.read_excel(r'participants.xlsx')\n",
        "df_projects = pd.read_excel(r'projects.xlsx')"
      ]
    },
    {
      "cell_type": "markdown",
      "source": [
        "FR2.2\n",
        "The system shall save in disk the generated a new database\n",
        "(ecsel_database.db)"
      ],
      "metadata": {
        "id": "v_Ky0OIOmIUD"
      },
      "id": "v_Ky0OIOmIUD"
    },
    {
      "cell_type": "code",
      "execution_count": null,
      "id": "39a4eca0",
      "metadata": {
        "id": "39a4eca0"
      },
      "outputs": [],
      "source": [
        "con = sqlite3.connect('ecsel_database.db')"
      ]
    },
    {
      "cell_type": "markdown",
      "source": [
        "FR2.3\n",
        "The system shall add 3 new tables in the database (ecsel_database.db),\n",
        "corresponding to the 3 dataframes (only if they don't exist previously)."
      ],
      "metadata": {
        "id": "Yjs883GjmSdB"
      },
      "id": "Yjs883GjmSdB"
    },
    {
      "cell_type": "code",
      "source": [
        "df_countries.to_sql('countries', con)\n",
        "df_participants.to_sql('participants', con)\n",
        "df_projects.to_sql('projects', con)\n",
        "\n",
        "con.close()"
      ],
      "metadata": {
        "id": "gpalnFwdmVn0"
      },
      "id": "gpalnFwdmVn0",
      "execution_count": null,
      "outputs": []
    }
  ],
  "metadata": {
    "kernelspec": {
      "display_name": "Python 3 (ipykernel)",
      "language": "python",
      "name": "python3"
    },
    "language_info": {
      "codemirror_mode": {
        "name": "ipython",
        "version": 3
      },
      "file_extension": ".py",
      "mimetype": "text/x-python",
      "name": "python",
      "nbconvert_exporter": "python",
      "pygments_lexer": "ipython3",
      "version": "3.9.7"
    },
    "colab": {
      "name": "createDB.ipynb",
      "provenance": []
    }
  },
  "nbformat": 4,
  "nbformat_minor": 5
}